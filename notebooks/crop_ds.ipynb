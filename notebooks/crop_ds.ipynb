{
 "cells": [
  {
   "cell_type": "code",
   "execution_count": 7,
   "id": "74622d15-72fc-4347-a2a2-ca6a5ee41a09",
   "metadata": {},
   "outputs": [],
   "source": [
    "import os\n",
    "import random\n",
    "from pathlib import Path\n",
    "from tqdm import tqdm"
   ]
  },
  {
   "cell_type": "code",
   "execution_count": 18,
   "id": "ff1de6a0-d2a5-48c8-b6b1-0580ca2d91bf",
   "metadata": {},
   "outputs": [],
   "source": [
    "to_crop = \"validation\"\n",
    "\n",
    "dir = Path(f\"../{to_crop}\")\n",
    "new_dir = Path(f\"../cropped_{to_crop}\")\n",
    "os.makedirs(new_dir, exist_ok=True)\n",
    "os.makedirs(new_dir / \"image\", exist_ok=True)\n",
    "os.makedirs(new_dir / \"yolo_annos\", exist_ok=True)"
   ]
  },
  {
   "cell_type": "code",
   "execution_count": 17,
   "id": "80df1edd-57ce-47c5-a0e0-1c2cc2d5d0de",
   "metadata": {},
   "outputs": [
    {
     "name": "stderr",
     "output_type": "stream",
     "text": [
      "100%|██████████████████████████████████████████████████████████████████████████| 10000/10000 [00:07<00:00, 1298.92it/s]\n"
     ]
    }
   ],
   "source": [
    "amount = 10000\n",
    "files = random.sample(list((dir / \"yolo_annos\").glob(\"*\")), amount)\n",
    "\n",
    "for filepath in tqdm(files):\n",
    "    fname = filepath.stem\n",
    "    img_file = (dir / \"image\" / fname).with_suffix(\".jpg\")\n",
    "    os.rename(img_file, (new_dir / \"image\" / fname).with_suffix(\".jpg\"))\n",
    "    os.rename(filepath, (new_dir / \"yolo_annos\" / fname).with_suffix(\".txt\"))\n"
   ]
  },
  {
   "cell_type": "code",
   "execution_count": null,
   "id": "0370884c-f593-48e3-a413-84c52be9f790",
   "metadata": {},
   "outputs": [],
   "source": []
  },
  {
   "cell_type": "code",
   "execution_count": null,
   "id": "1e5536df-d377-449a-bb58-ba6458c6ad71",
   "metadata": {},
   "outputs": [],
   "source": []
  }
 ],
 "metadata": {
  "kernelspec": {
   "display_name": "Python 3 (ipykernel)",
   "language": "python",
   "name": "python3"
  },
  "language_info": {
   "codemirror_mode": {
    "name": "ipython",
    "version": 3
   },
   "file_extension": ".py",
   "mimetype": "text/x-python",
   "name": "python",
   "nbconvert_exporter": "python",
   "pygments_lexer": "ipython3",
   "version": "3.11.3"
  }
 },
 "nbformat": 4,
 "nbformat_minor": 5
}
